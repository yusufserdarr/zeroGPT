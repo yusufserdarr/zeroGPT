{
  "cells": [
    {
      "cell_type": "markdown",
      "metadata": {},
      "source": [
        "# 📚 Veriset Hazırlama - ZeroGPT\n",
        "İnsan ve AI verilerini birleştirip temiz veriset oluşturalım\n"
      ]
    },
    {
      "cell_type": "markdown",
      "metadata": {},
      "source": [
        "## 1️⃣ Kütüphaneleri Yükle\n"
      ]
    },
    {
      "cell_type": "code",
      "execution_count": null,
      "metadata": {},
      "outputs": [],
      "source": [
        "import pandas as pd\n",
        "import numpy as np\n",
        "import matplotlib.pyplot as plt\n",
        "import seaborn as sns\n",
        "\n",
        "print(\"✅ Kütüphaneler yüklendi!\")\n"
      ]
    },
    {
      "cell_type": "markdown",
      "metadata": {},
      "source": [
        "## 2️⃣ Mevcut İnsan Verilerini Yükle\n"
      ]
    },
    {
      "cell_type": "code",
      "execution_count": null,
      "metadata": {},
      "outputs": [],
      "source": [
        "# Mevcut Türkçe veri\n",
        "df_human_old = pd.read_csv('temizlenmis_turkce_veri.csv')\n",
        "print(f\"📊 Mevcut veri: {len(df_human_old)} metin\")\n",
        "df_human_old.head()\n"
      ]
    },
    {
      "cell_type": "markdown",
      "metadata": {},
      "source": [
        "## 3️⃣ Yeni Wikipedia Verilerini Yükle\n"
      ]
    },
    {
      "cell_type": "code",
      "execution_count": null,
      "metadata": {},
      "outputs": [],
      "source": [
        "# Wikipedia Türkçe cümleleri\n",
        "with open('/Users/yusufserdaroglu/Desktop/turkish-sentences-dataset-main/wiki.tr.txt', 'r', encoding='utf-8') as f:\n",
        "    wiki_sentences = [line.strip() for line in f if line.strip()]\n",
        "\n",
        "print(f\"📚 Wikipedia: {len(wiki_sentences)} cümle\")\n",
        "print(\"\\n🔍 İlk 5 örnek:\")\n",
        "for i in range(5):\n",
        "    print(f\"{i+1}. {wiki_sentences[i]}\")\n"
      ]
    },
    {
      "cell_type": "markdown",
      "metadata": {},
      "source": [
        "## 4️⃣ Filtreleme + Birleştirme\n"
      ]
    },
    {
      "cell_type": "code",
      "execution_count": null,
      "metadata": {},
      "outputs": [],
      "source": [
        "\n"
      ]
    },
    {
      "cell_type": "markdown",
      "metadata": {},
      "source": [
        "## 5 AI Verilerini Yukle + Dengele\n"
      ]
    },
    {
      "cell_type": "code",
      "execution_count": null,
      "metadata": {},
      "outputs": [],
      "source": [
        "\n"
      ]
    },
    {
      "cell_type": "markdown",
      "metadata": {},
      "source": [
        "hazı"
      ]
    }
  ],
  "metadata": {
    "language_info": {
      "name": "python"
    }
  },
  "nbformat": 4,
  "nbformat_minor": 2
}
