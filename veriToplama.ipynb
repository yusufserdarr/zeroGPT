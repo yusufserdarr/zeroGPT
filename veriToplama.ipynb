{
 "cells": [
  {
   "cell_type": "code",
   "execution_count": 18,
   "id": "3bfddc3a",
   "metadata": {},
   "outputs": [
    {
     "name": "stdout",
     "output_type": "stream",
     "text": [
      "Kütüphaneler hazır!\n"
     ]
    }
   ],
   "source": [
    "import requests\n",
    "from bs4 import BeautifulSoup\n",
    "import pandas as pd\n",
    "import os\n",
    "\n",
    "print(\"Kütüphaneler hazır!\")"
   ]
  },
  {
   "cell_type": "code",
   "execution_count": 21,
   "id": "57e1eb19",
   "metadata": {},
   "outputs": [
    {
     "name": "stdout",
     "output_type": "stream",
     "text": [
      "✅ Temizlenen veri sayısı: 38786\n",
      "💾 'temizlenmis_turkce_veri.csv' dosyası başarıyla oluşturuldu!\n"
     ]
    }
   ],
   "source": [
    "import pandas as pd\n",
    "import re\n",
    "\n",
    "# 1️⃣ Veriyi oku\n",
    "df = pd.read_excel(\"news.xls\")\n",
    "\n",
    "# 2️⃣ Sadece content sütunundaki boşlukları temizle\n",
    "df = df.dropna(subset=['content'])\n",
    "df = df[df['content'].str.strip().astype(bool)]\n",
    "\n",
    "# 3️⃣ Temizlik fonksiyonu\n",
    "def temizle(metin):\n",
    "    if not isinstance(metin, str):\n",
    "        return \"\"\n",
    "    # linkleri ve özel karakterleri temizle\n",
    "    metin = re.sub(r\"http\\S+\", \"\", metin)\n",
    "    metin = re.sub(r\"www\\.\\S+\", \"\", metin)\n",
    "    metin = re.sub(r\"[^\\w\\sçğıöşüÇĞİÖŞÜ.,!?]\", \" \", metin)\n",
    "    metin = re.sub(r\"\\s+\", \" \", metin)\n",
    "    return metin.strip()\n",
    "\n",
    "# 4️⃣ Uygula\n",
    "df['content'] = df['content'].apply(temizle)\n",
    "\n",
    "# 5️⃣ Çok kısa (örneğin 5 kelimeden az) metinleri at\n",
    "df = df[df['content'].apply(lambda x: len(x.split()) > 5)]\n",
    "\n",
    "# 6️⃣ Temiz veri sayısını göster\n",
    "print(f\"✅ Temizlenen veri sayısı: {len(df)}\")\n",
    "\n",
    "# 7️⃣ Yeni dosya olarak kaydet\n",
    "df.to_csv(\"temizlenmis_turkce_veri.csv\", index=False, encoding='utf-8-sig')\n",
    "\n",
    "print(\"💾 'temizlenmis_turkce_veri.csv' dosyası başarıyla oluşturuldu!\")\n"
   ]
  },
  {
   "cell_type": "code",
   "execution_count": null,
   "id": "4e0bb7ef",
   "metadata": {},
   "outputs": [],
   "source": []
  }
 ],
 "metadata": {
  "kernelspec": {
   "display_name": "Python 3",
   "language": "python",
   "name": "python3"
  },
  "language_info": {
   "codemirror_mode": {
    "name": "ipython",
    "version": 3
   },
   "file_extension": ".py",
   "mimetype": "text/x-python",
   "name": "python",
   "nbconvert_exporter": "python",
   "pygments_lexer": "ipython3",
   "version": "3.9.6"
  }
 },
 "nbformat": 4,
 "nbformat_minor": 5
}
